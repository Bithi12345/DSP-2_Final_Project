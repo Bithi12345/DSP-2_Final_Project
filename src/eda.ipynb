{
 "cells": [
  {
   "cell_type": "code",
   "execution_count": 6,
   "metadata": {},
   "outputs": [
    {
     "name": "stderr",
     "output_type": "stream",
     "text": [
      "Summarize dataset: 100%|██████████| 44/44 [00:05<00:00,  7.62it/s, Completed]                                         \n",
      "Generate report structure: 100%|██████████| 1/1 [00:04<00:00,  4.29s/it]\n",
      "Render HTML: 100%|██████████| 1/1 [00:01<00:00,  1.32s/it]\n",
      "Export report to file: 100%|██████████| 1/1 [00:00<00:00, 49.70it/s]\n"
     ]
    }
   ],
   "source": [
    "import pandas as pd\n",
    "from ydata_profiling import ProfileReport\n",
    "\n",
    "data = pd.read_csv('C:/DSP-2_Final_Project/data/HR_comma_sep.csv')\n",
    "\n",
    "profile = ProfileReport(data, title=\"Housing data Report\")\n",
    "profile.to_file(\"housing_data_report.html\")"
   ]
  },
  {
   "cell_type": "code",
   "execution_count": 8,
   "metadata": {},
   "outputs": [],
   "source": [
    "import dtale\n",
    "\n",
    "d = dtale.show(data)\n",
    "d.open_browser()"
   ]
  },
  {
   "cell_type": "code",
   "execution_count": 9,
   "metadata": {},
   "outputs": [
    {
     "name": "stderr",
     "output_type": "stream",
     "text": [
      "2025-02-07 21:36:40,250 - INFO     - Executing shutdown...\n",
      "2025-02-07 21:36:40,265 - INFO     - Not running with the Werkzeug Server, exiting by searching gc for BaseWSGIServer\n"
     ]
    }
   ],
   "source": [
    "d.kill()"
   ]
  }
 ],
 "metadata": {
  "kernelspec": {
   "display_name": "venv",
   "language": "python",
   "name": "python3"
  },
  "language_info": {
   "codemirror_mode": {
    "name": "ipython",
    "version": 3
   },
   "file_extension": ".py",
   "mimetype": "text/x-python",
   "name": "python",
   "nbconvert_exporter": "python",
   "pygments_lexer": "ipython3",
   "version": "3.12.1"
  }
 },
 "nbformat": 4,
 "nbformat_minor": 2
}
